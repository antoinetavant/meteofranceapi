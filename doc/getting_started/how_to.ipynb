{
 "cells": [
  {
   "attachments": {},
   "cell_type": "markdown",
   "id": "204332d7-9b4a-4ed9-85bc-59c882e95e18",
   "metadata": {},
   "source": [
    "# How to use MeteoFrance-PublicAPI to realize usual tasks\n",
    "\n",
    "WPI"
   ]
  },
  {
   "cell_type": "markdown",
   "id": "c7cfcbf9",
   "metadata": {},
   "source": []
  }
 ],
 "metadata": {
  "kernelspec": {
   "display_name": "cerebro_develop",
   "language": "python",
   "name": "python3"
  },
  "language_info": {
   "codemirror_mode": {
    "name": "ipython",
    "version": 3
   },
   "file_extension": ".py",
   "mimetype": "text/x-python",
   "name": "python",
   "nbconvert_exporter": "python",
   "pygments_lexer": "ipython3",
   "version": "3.11.0"
  }
 },
 "nbformat": 4,
 "nbformat_minor": 5
}
